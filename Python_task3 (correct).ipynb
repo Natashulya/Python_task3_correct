{
 "cells": [
  {
   "cell_type": "code",
   "execution_count": 1,
   "id": "fc489198",
   "metadata": {},
   "outputs": [],
   "source": [
    "# Вариант 1"
   ]
  },
  {
   "cell_type": "code",
   "execution_count": null,
   "id": "8ab061f8",
   "metadata": {},
   "outputs": [
    {
     "name": "stdout",
     "output_type": "stream",
     "text": [
      "Возможные команды: p, s, l, a\n"
     ]
    }
   ],
   "source": [
    "def get_name():\n",
    "    number = input('Введите номер документа ')\n",
    "    for data in documents:\n",
    "        if data.get(\"number\") == number:\n",
    "            return data.get('name')\n",
    "    return 'Документа с таким номером нет'\n",
    " \n",
    "def get_shelf():\n",
    "    number = input('Введите номер документа ')\n",
    "    for key in directories :\n",
    "        if number in directories.get(key):\n",
    "            return key\n",
    "    return 'В полках документа с данным номером нет.'\n",
    " \n",
    "def get_list(docs):\n",
    "    for doc in docs:\n",
    "        return f\"{doc['type']} {doc['number']} {doc['name']};\"\n",
    " \n",
    " \n",
    "def add_doc():\n",
    "    shelf = input('Введите номер полки куда положить документ. ')\n",
    "    if shelf not in directories:\n",
    "        return 'Нет такой полки'\n",
    "    doc = {}\n",
    "    for info in ('type','number', 'name'):\n",
    "        doc[info] = input(f'{info}: ')\n",
    "    directories[shelf] = directories.get(shelf).append(doc['number'])\n",
    "    return 'Документ добавлен'\n",
    " \n",
    " \n",
    "documents = [\n",
    "        {\"type\": \"passport\", \"number\": \"2207 876234\", \"name\": \"Василий Гупкин\"},\n",
    "        {\"type\": \"invoice\", \"number\": \"11-2\", \"name\": \"Геннадий Покемонов\"},\n",
    "        {\"type\": \"insurance\", \"number\": \"10006\", \"name\": \"Аристарх Павлов\"}\n",
    "      ]\n",
    " \n",
    "directories = {\n",
    "        '1': ['2207 876234', '11-2'],\n",
    "        '2': ['10006'],\n",
    "        '3': []\n",
    "      }\n",
    " \n",
    "while True:\n",
    "    print('Возможные команды: p, s, l, a')\n",
    "    comand = input('Введите название команды ')\n",
    " \n",
    "    if comand == 'p':\n",
    "        print(get_name())\n",
    "    \n",
    "    elif comand == 's':\n",
    "        print(get_shelf())\n",
    "    \n",
    "    elif comand == 'l':\n",
    "        print(get_list())\n",
    "    \n",
    "    elif comand == 'a':\n",
    "            print(add_doc())"
   ]
  },
  {
   "cell_type": "code",
   "execution_count": 4,
   "id": "2aff06b0",
   "metadata": {},
   "outputs": [],
   "source": [
    "#Вариант_2"
   ]
  },
  {
   "cell_type": "code",
   "execution_count": null,
   "id": "1b6b527a",
   "metadata": {},
   "outputs": [
    {
     "name": "stdout",
     "output_type": "stream",
     "text": [
      "Возможные команды: p, s, l, a, d\n"
     ]
    }
   ],
   "source": [
    "def get_name():\n",
    "    number = input('Введите номер документа ')\n",
    "    for data in documents:\n",
    "        if data.get(\"number\") == number:\n",
    "            return data.get('name')\n",
    "    return 'Документа с таким номером нет'\n",
    " \n",
    "def get_shelf():\n",
    "    number = input('Введите номер документа ')\n",
    "    for key in directories :\n",
    "        if number in directories.get(key):\n",
    "            return key\n",
    "    return 'В полках документа с данным номером нет.'\n",
    " \n",
    "def get_list(docs):\n",
    "    for doc in docs:\n",
    "        return f\"{doc['type']} {doc['number']} {doc['name']};\"\n",
    " \n",
    " \n",
    "def add_doc():\n",
    "    shelf = input('Введите номер полки куда положить документ. ')\n",
    "    if shelf not in directories:\n",
    "        return 'Нет такой полки'\n",
    "    doc = {}\n",
    "    for info in ('type','number', 'name'):\n",
    "        doc[info] = input(f'{info}: ')\n",
    "    directories[shelf] = directories.get(shelf).append(doc['number'])\n",
    "    return 'Документ добавлен'\n",
    "\n",
    "def d(doc_number):\n",
    "    initial_len = len(documents)\n",
    "    for i, d in enumerate(documents):\n",
    "        if d[\"number\"] == doc_number:\n",
    "            documents.pop(i)\n",
    "\n",
    "    if initial_len == len(documents):\n",
    "        return \"Документ не существует\"\n",
    "\n",
    "    for key, value in directories.items():\n",
    "        if doc_number in value:\n",
    "            value.remove(doc_number)\n",
    "\n",
    "    return \"Документ успешно удален\"\n",
    " \n",
    " \n",
    "documents = [\n",
    "        {\"type\": \"passport\", \"number\": \"2207 876234\", \"name\": \"Василий Гупкин\"},\n",
    "        {\"type\": \"invoice\", \"number\": \"11-2\", \"name\": \"Геннадий Покемонов\"},\n",
    "        {\"type\": \"insurance\", \"number\": \"10006\", \"name\": \"Аристарх Павлов\"}\n",
    "      ]\n",
    " \n",
    "directories = {\n",
    "        '1': ['2207 876234', '11-2'],\n",
    "        '2': ['10006'],\n",
    "        '3': []\n",
    "      }\n",
    " \n",
    "while True:\n",
    "    print('Возможные команды: p, s, l, a, d')\n",
    "    comand = input('Введите название команды ')\n",
    " \n",
    "    if comand == 'p':\n",
    "        print(get_name())\n",
    "    \n",
    "    elif comand == 's':\n",
    "        print(get_shelf())\n",
    "    \n",
    "    elif comand == 'l':\n",
    "        print(get_list())\n",
    "    \n",
    "    elif comand == 'a':\n",
    "            print(add_doc())\n",
    "            \n",
    "    elif comand == 'd':\n",
    "            print(delete_doc())        "
   ]
  },
  {
   "cell_type": "code",
   "execution_count": null,
   "id": "1bd20737",
   "metadata": {},
   "outputs": [],
   "source": []
  }
 ],
 "metadata": {
  "kernelspec": {
   "display_name": "Python 3",
   "language": "python",
   "name": "python3"
  },
  "language_info": {
   "codemirror_mode": {
    "name": "ipython",
    "version": 3
   },
   "file_extension": ".py",
   "mimetype": "text/x-python",
   "name": "python",
   "nbconvert_exporter": "python",
   "pygments_lexer": "ipython3",
   "version": "3.8.8"
  }
 },
 "nbformat": 4,
 "nbformat_minor": 5
}
